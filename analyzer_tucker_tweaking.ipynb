{
 "cells": [
  {
   "cell_type": "code",
   "execution_count": 18,
   "id": "170e7b17",
   "metadata": {},
   "outputs": [],
   "source": [
    "import json\n",
    "METRICS = ['test_acc', 'train_acc', 'test_loss', 'train_hard_loss', 'train_soft_loss']\n",
    "def get_metrics(path):\n",
    "    with open(path, 'r') as f:\n",
    "        data = json.load(f)\n",
    "    return data\n",
    "thing = get_metrics('toolbox/metrics.json')"
   ]
  },
  {
   "cell_type": "code",
   "execution_count": 19,
   "id": "143ad376",
   "metadata": {},
   "outputs": [],
   "source": [
    "from toolbox.utils import plot_the_things\n",
    "plot_the_things((thing['train_hard_loss'], thing['train_soft_loss']), thing['test_loss'], thing['train_acc'], thing['test_acc'], '')"
   ]
  }
 ],
 "metadata": {
  "kernelspec": {
   "display_name": "Python 3",
   "language": "python",
   "name": "python3"
  },
  "language_info": {
   "codemirror_mode": {
    "name": "ipython",
    "version": 3
   },
   "file_extension": ".py",
   "mimetype": "text/x-python",
   "name": "python",
   "nbconvert_exporter": "python",
   "pygments_lexer": "ipython3",
   "version": "3.12.8"
  }
 },
 "nbformat": 4,
 "nbformat_minor": 5
}
